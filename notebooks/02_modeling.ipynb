#Outline
# 1. Label samples (caner type, infection status)
# 2. Feature selection : top genes or modules
# 3. Train/test ML classifier
# 4. Evaluate accuracy, AUC
# 5. Interpret biological significance
