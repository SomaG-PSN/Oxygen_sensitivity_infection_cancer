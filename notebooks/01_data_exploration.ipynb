#Outline
# 1. Load expression data
# 2. Screen for hypoxia related genes
# 3. Identify infection patterns
# 4. Cluster/PCA
# 5. Visualise
